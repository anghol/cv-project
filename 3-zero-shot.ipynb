{
 "cells": [
  {
   "cell_type": "code",
   "execution_count": null,
   "metadata": {},
   "outputs": [],
   "source": [
    "import clip\n",
    "import ruclip\n",
    "import torch\n",
    "import torchvision.transforms as transforms\n",
    "\n",
    "import json\n",
    "import pickle\n",
    "import random\n",
    "import numpy as np\n",
    "import pandas as pd\n",
    "from tqdm import tqdm\n",
    "from PIL import Image\n",
    "from matplotlib import pyplot as plt\n",
    "\n",
    "import utils\n",
    "\n",
    "random_seed = 17\n",
    "torch.manual_seed(random_seed)\n",
    "random.seed(random_seed)\n",
    "np.random.seed(random_seed)"
   ]
  },
  {
   "attachments": {},
   "cell_type": "markdown",
   "metadata": {},
   "source": [
    "# Получение эмбеддингов изображений\n",
    "\n",
    "Запустим каждую модель для получения эмбеддингов изображений и текстов из тестовой выборки. Получим таким образом для каждой модели базу вычисленных эмбеддингов."
   ]
  },
  {
   "cell_type": "code",
   "execution_count": 2,
   "metadata": {},
   "outputs": [
    {
     "name": "stdout",
     "output_type": "stream",
     "text": [
      "Current device: cuda\n",
      "Test data size: (328, 7)\n"
     ]
    },
    {
     "data": {
      "text/html": [
       "<div>\n",
       "<style scoped>\n",
       "    .dataframe tbody tr th:only-of-type {\n",
       "        vertical-align: middle;\n",
       "    }\n",
       "\n",
       "    .dataframe tbody tr th {\n",
       "        vertical-align: top;\n",
       "    }\n",
       "\n",
       "    .dataframe thead th {\n",
       "        text-align: right;\n",
       "    }\n",
       "</style>\n",
       "<table border=\"1\" class=\"dataframe\">\n",
       "  <thead>\n",
       "    <tr style=\"text-align: right;\">\n",
       "      <th></th>\n",
       "      <th>Unnamed: 0</th>\n",
       "      <th>local_image_path</th>\n",
       "      <th>name</th>\n",
       "      <th>category</th>\n",
       "      <th>text</th>\n",
       "      <th>url</th>\n",
       "      <th>id</th>\n",
       "    </tr>\n",
       "  </thead>\n",
       "  <tbody>\n",
       "    <tr>\n",
       "      <th>0</th>\n",
       "      <td>12</td>\n",
       "      <td>data/embroteka_imgs/12.png</td>\n",
       "      <td>астронавт</td>\n",
       "      <td>астрология космос</td>\n",
       "      <td>астронавт астрология космос</td>\n",
       "      <td>https://embroteka.ru/astronavt-16946</td>\n",
       "      <td>12</td>\n",
       "    </tr>\n",
       "    <tr>\n",
       "      <th>1</th>\n",
       "      <td>21</td>\n",
       "      <td>data/embroteka_imgs/21.jpg</td>\n",
       "      <td>гагарин ю.а.</td>\n",
       "      <td>астрология космос люди</td>\n",
       "      <td>гагарин ю.а. астрология космос люди</td>\n",
       "      <td>https://embroteka.ru/gagarin</td>\n",
       "      <td>21</td>\n",
       "    </tr>\n",
       "    <tr>\n",
       "      <th>2</th>\n",
       "      <td>32</td>\n",
       "      <td>data/embroteka_imgs/32.png</td>\n",
       "      <td>звезды</td>\n",
       "      <td>астрология космос</td>\n",
       "      <td>звезды астрология космос</td>\n",
       "      <td>https://embroteka.ru/dve-zvezdi</td>\n",
       "      <td>32</td>\n",
       "    </tr>\n",
       "    <tr>\n",
       "      <th>3</th>\n",
       "      <td>56</td>\n",
       "      <td>data/embroteka_imgs/57.jpg</td>\n",
       "      <td>знак зодиака козерог</td>\n",
       "      <td>астрология космос</td>\n",
       "      <td>знак зодиака козерог астрология космос</td>\n",
       "      <td>https://embroteka.ru/capricorn</td>\n",
       "      <td>56</td>\n",
       "    </tr>\n",
       "    <tr>\n",
       "      <th>4</th>\n",
       "      <td>57</td>\n",
       "      <td>data/embroteka_imgs/58.jpg</td>\n",
       "      <td>знак зодиака козерог</td>\n",
       "      <td>астрология космос</td>\n",
       "      <td>знак зодиака козерог астрология космос</td>\n",
       "      <td>https://embroteka.ru/zodiak5</td>\n",
       "      <td>57</td>\n",
       "    </tr>\n",
       "  </tbody>\n",
       "</table>\n",
       "</div>"
      ],
      "text/plain": [
       "   Unnamed: 0            local_image_path                  name  \\\n",
       "0          12  data/embroteka_imgs/12.png             астронавт   \n",
       "1          21  data/embroteka_imgs/21.jpg          гагарин ю.а.   \n",
       "2          32  data/embroteka_imgs/32.png                звезды   \n",
       "3          56  data/embroteka_imgs/57.jpg  знак зодиака козерог   \n",
       "4          57  data/embroteka_imgs/58.jpg  знак зодиака козерог   \n",
       "\n",
       "                 category                                    text  \\\n",
       "0       астрология космос             астронавт астрология космос   \n",
       "1  астрология космос люди     гагарин ю.а. астрология космос люди   \n",
       "2       астрология космос                звезды астрология космос   \n",
       "3       астрология космос  знак зодиака козерог астрология космос   \n",
       "4       астрология космос  знак зодиака козерог астрология космос   \n",
       "\n",
       "                                    url  id  \n",
       "0  https://embroteka.ru/astronavt-16946  12  \n",
       "1          https://embroteka.ru/gagarin  21  \n",
       "2       https://embroteka.ru/dve-zvezdi  32  \n",
       "3        https://embroteka.ru/capricorn  56  \n",
       "4          https://embroteka.ru/zodiak5  57  "
      ]
     },
     "execution_count": 2,
     "metadata": {},
     "output_type": "execute_result"
    }
   ],
   "source": [
    "# определение доступного устройства\n",
    "device = 'cuda' if torch.cuda.is_available() else 'cpu'\n",
    "print('Current device:', device)\n",
    "\n",
    "# чтение данных тестовой выборки\n",
    "df = pd.read_csv('data/test_data.csv')\n",
    "print('Test data size:', df.shape)\n",
    "df.head()"
   ]
  },
  {
   "attachments": {},
   "cell_type": "markdown",
   "metadata": {},
   "source": [
    "## CLIP"
   ]
  },
  {
   "cell_type": "code",
   "execution_count": 4,
   "metadata": {},
   "outputs": [
    {
     "name": "stderr",
     "output_type": "stream",
     "text": [
      "100%|██████████| 3/3 [00:04<00:00,  1.52s/it]\n"
     ]
    }
   ],
   "source": [
    "# model: CLIP\n",
    "# preprocess: Resize(224), CenterCrop(), ToTensor(), Normalize()\n",
    "model_name = 'clip'\n",
    "model, preprocess = clip.load('ViT-B/32', device=device)\n",
    "total_image_embeddings, total_text_embeddings = utils.get_full_embeddings(df, model, preprocess, model_name, device)"
   ]
  },
  {
   "cell_type": "code",
   "execution_count": 5,
   "metadata": {},
   "outputs": [],
   "source": [
    "# формируем структуру данных\n",
    "data = {\n",
    "    'ids': df['id'].to_list(), \n",
    "    'image_paths': df['local_image_path'].to_list(),\n",
    "    'image_embeddings': total_image_embeddings,\n",
    "    'texts': df['text'].to_list(),\n",
    "    'text_embeddings': total_text_embeddings,\n",
    "    'urls': df['url'].to_list()\n",
    "}\n",
    "\n",
    "# сохраняем в пикл\n",
    "with open('embeddings/test_embeddings_clip_pretrained.pkl', 'wb') as file:\n",
    "    pickle.dump(data, file)"
   ]
  },
  {
   "attachments": {},
   "cell_type": "markdown",
   "metadata": {},
   "source": [
    "## ruCLIP"
   ]
  },
  {
   "cell_type": "code",
   "execution_count": 6,
   "metadata": {},
   "outputs": [
    {
     "name": "stderr",
     "output_type": "stream",
     "text": [
      "/home/student/kholicheva/.venv/lib/python3.10/site-packages/huggingface_hub/utils/_deprecation.py:131: FutureWarning: 'cached_download' (from 'huggingface_hub.file_download') is deprecated and will be removed from version '0.26'. Use `hf_hub_download` instead.\n",
      "  warnings.warn(warning_message, FutureWarning)\n",
      "/home/student/kholicheva/.venv/lib/python3.10/site-packages/huggingface_hub/file_download.py:672: FutureWarning: 'cached_download' is the legacy way to download files from the HF hub, please consider upgrading to 'hf_hub_download'\n",
      "  warnings.warn(\n",
      "100%|██████████| 3/3 [00:03<00:00,  1.12s/it]\n"
     ]
    }
   ],
   "source": [
    "# model: CLIP\n",
    "# processor: RuCLIPProcessor для изображений и текста, после вызова возвращает dict\n",
    "model_name = 'ruclip'\n",
    "model, processor = ruclip.load('ruclip-vit-base-patch32-224', device=device)\n",
    "total_image_embeddings, total_text_embeddings = utils.get_full_embeddings(df, model, processor, model_name, device)"
   ]
  },
  {
   "cell_type": "code",
   "execution_count": 7,
   "metadata": {},
   "outputs": [],
   "source": [
    "# формируем структуру данных\n",
    "data = {\n",
    "    'ids': df['id'].to_list(),\n",
    "    'image_paths': df['local_image_path'].to_list(),\n",
    "    'image_embeddings': total_image_embeddings,\n",
    "    'texts': df['text'].to_list(),\n",
    "    'text_embeddings': total_text_embeddings,\n",
    "    'urls': df['url'].to_list()\n",
    "}\n",
    "\n",
    "# сохраняем в пикл\n",
    "with open('embeddings/test_embeddings_ruclip_pretrained.pkl', 'wb') as file:\n",
    "    pickle.dump(data, file)"
   ]
  },
  {
   "attachments": {},
   "cell_type": "markdown",
   "metadata": {},
   "source": [
    "# Поиск картинок по текстовому запросу"
   ]
  },
  {
   "cell_type": "code",
   "execution_count": 3,
   "metadata": {},
   "outputs": [],
   "source": [
    "# загружаем json-файл с тестовыми запросами и релевантными изображениями\n",
    "with open('semantic_test_queries.json') as file:\n",
    "    queries_and_relevants = json.load(file)\n",
    "    queries = list(queries_and_relevants.keys())\n",
    "\n",
    "# приведем к более удобной структуре\n",
    "for query in queries:\n",
    "    df_query = pd.DataFrame(queries_and_relevants[query])\n",
    "    ids = df_query['id'].tolist()\n",
    "    paths = df_query['local_image_path'].tolist()\n",
    "    texts = df_query['text'].tolist()\n",
    "    queries_and_relevants[query] = {'ids': ids, 'paths': paths, 'texts': texts}"
   ]
  },
  {
   "attachments": {},
   "cell_type": "markdown",
   "metadata": {},
   "source": [
    "## CLIP embeddings"
   ]
  },
  {
   "cell_type": "code",
   "execution_count": 9,
   "metadata": {},
   "outputs": [
    {
     "name": "stdout",
     "output_type": "stream",
     "text": [
      "Среднее косинусное сходство эмбеддингов у правильных пар: 0.0315\n"
     ]
    },
    {
     "data": {
      "text/plain": [
       "0.031494140625"
      ]
     },
     "execution_count": 9,
     "metadata": {},
     "output_type": "execute_result"
    }
   ],
   "source": [
    "# загружаем эмбеддинги из предобученной модели\n",
    "with open('embeddings/test_embeddings_clip_pretrained.pkl', 'rb') as file:\n",
    "    test_data_clip = pickle.load(file)\n",
    "\n",
    "# инициализируем предобученную модель\n",
    "model_name = 'clip'\n",
    "model, preprocess = clip.load('ViT-B/32', device=device)\n",
    "\n",
    "# посчитаем среднее косинусное сходство эмбеддингов в правильных парах\n",
    "utils.mean_similarity_between_true(model, test_data_clip['image_embeddings'], test_data_clip['text_embeddings'])"
   ]
  },
  {
   "cell_type": "code",
   "execution_count": 10,
   "metadata": {},
   "outputs": [],
   "source": [
    "# проходим по всем тестовым запросам\n",
    "queries_and_preds = {}\n",
    "for query in queries:\n",
    "    text_embedding = utils.get_text_embedding(query, model, preprocess, model_name, device)\n",
    "    scores = torch.cosine_similarity(text_embedding, test_data_clip['image_embeddings'], dim=-1)\n",
    "    top_images_indices = torch.topk(scores, k=5).indices\n",
    "    ids = np.array(test_data_clip['ids'])[top_images_indices].tolist()\n",
    "    paths = np.array(test_data_clip['image_paths'])[top_images_indices].tolist()\n",
    "    texts = np.array(test_data_clip['texts'])[top_images_indices].tolist()\n",
    "    queries_and_preds[query] = {'ids': ids, 'paths': paths, 'texts': texts}"
   ]
  },
  {
   "cell_type": "code",
   "execution_count": 11,
   "metadata": {},
   "outputs": [
    {
     "name": "stdout",
     "output_type": "stream",
     "text": [
      "----- Precision@5 -----\n",
      "Запрос \"котенок\":  0.40\n",
      "Запрос \"петух курица\":  0.00\n",
      "Запрос \"девушка\":  0.00\n",
      "Запрос \"новый год\":  0.20\n",
      "Запрос \"пасха\":  0.00\n",
      "Запрос \"цветы ромашки\":  0.00\n",
      "Запрос \"иероглифы\":  0.00\n",
      "Запрос \"персонажи мультфильмов\":  0.00\n",
      "Запрос \"космос\":  0.20\n",
      "Запрос \"необычные птицы\":  0.00\n",
      "Запрос \"ученый и наука\":  0.00\n",
      "Запрос \"надписи буквами\":  0.00\n",
      "Запрос \"военная\":  1.00\n",
      "Запрос \"автомобили машины\":  0.00\n",
      "Запрос \"гарри поттер\":  0.00\n",
      "Запрос \"бабочка\":  0.00\n",
      "Запрос \"собака играет\":  0.00\n",
      "Запрос \"знаки зодиака\":  0.00\n",
      "Запрос \"лило и стич\":  0.00\n",
      "Запрос \"самолеты небо\":  0.00\n",
      "Запрос \"детские рисунки\":  0.00\n",
      "Запрос \"любовь\":  0.00\n",
      "Запрос \"динозавр\":  0.00\n",
      "Запрос \"пиво\":  0.20\n",
      "Среднее значение по всем запросам: 0.08333333333333333\n"
     ]
    }
   ],
   "source": [
    "utils.precision_at_k(queries_and_relevants, queries_and_preds)"
   ]
  },
  {
   "cell_type": "code",
   "execution_count": 12,
   "metadata": {},
   "outputs": [
    {
     "name": "stdout",
     "output_type": "stream",
     "text": [
      "----- Recall@5 -----\n",
      "Запрос \"котенок\":  0.12\n",
      "Запрос \"петух курица\":  0.00\n",
      "Запрос \"девушка\":  0.00\n",
      "Запрос \"новый год\":  0.07\n",
      "Запрос \"пасха\":  0.00\n",
      "Запрос \"цветы ромашки\":  0.00\n",
      "Запрос \"иероглифы\":  0.00\n",
      "Запрос \"персонажи мультфильмов\":  0.00\n",
      "Запрос \"космос\":  0.06\n",
      "Запрос \"необычные птицы\":  0.00\n",
      "Запрос \"ученый и наука\":  0.00\n",
      "Запрос \"надписи буквами\":  0.00\n",
      "Запрос \"военная\":  0.33\n",
      "Запрос \"автомобили машины\":  0.00\n",
      "Запрос \"гарри поттер\":  0.00\n",
      "Запрос \"бабочка\":  0.00\n",
      "Запрос \"собака играет\":  0.00\n",
      "Запрос \"знаки зодиака\":  0.00\n",
      "Запрос \"лило и стич\":  0.00\n",
      "Запрос \"самолеты небо\":  0.00\n",
      "Запрос \"детские рисунки\":  0.00\n",
      "Запрос \"любовь\":  0.00\n",
      "Запрос \"динозавр\":  0.00\n",
      "Запрос \"пиво\":  0.09\n",
      "Среднее значение по всем запросам: 0.0281761063011063\n"
     ]
    }
   ],
   "source": [
    "utils.recall_at_k(queries_and_relevants, queries_and_preds)"
   ]
  },
  {
   "attachments": {},
   "cell_type": "markdown",
   "metadata": {},
   "source": [
    "## ruCLIP embeddings"
   ]
  },
  {
   "cell_type": "code",
   "execution_count": 13,
   "metadata": {},
   "outputs": [
    {
     "name": "stdout",
     "output_type": "stream",
     "text": [
      "Среднее косинусное сходство эмбеддингов у правильных пар: 0.1874\n"
     ]
    },
    {
     "data": {
      "text/plain": [
       "0.1873556524515152"
      ]
     },
     "execution_count": 13,
     "metadata": {},
     "output_type": "execute_result"
    }
   ],
   "source": [
    "# загружаем данные\n",
    "with open('embeddings/test_embeddings_ruclip_pretrained.pkl', 'rb') as file:\n",
    "    test_data_ruclip = pickle.load(file)\n",
    "\n",
    "# инициализируем модель\n",
    "model_name = 'ruclip'\n",
    "model, preprocess = ruclip.load('ruclip-vit-base-patch32-224', device=device)\n",
    "\n",
    "# посчитаем среднее косинусное сходство эмбеддингов в правильных парах\n",
    "utils.mean_similarity_between_true(model, test_data_ruclip['image_embeddings'], test_data_ruclip['text_embeddings'])"
   ]
  },
  {
   "cell_type": "code",
   "execution_count": 14,
   "metadata": {},
   "outputs": [],
   "source": [
    "# проходим по всем тестовым запросам\n",
    "queries_and_preds = {}\n",
    "for query in queries:\n",
    "    text_embedding = utils.get_text_embedding(query, model, preprocess, model_name, device)\n",
    "    scores = torch.cosine_similarity(text_embedding, test_data_ruclip['image_embeddings'], dim=-1)\n",
    "    top_images_indices = torch.topk(scores, k=5).indices\n",
    "    ids = np.array(test_data_ruclip['ids'])[top_images_indices].tolist()\n",
    "    paths = np.array(test_data_ruclip['image_paths'])[top_images_indices].tolist()\n",
    "    texts = np.array(test_data_ruclip['texts'])[top_images_indices].tolist()\n",
    "    queries_and_preds[query] = {'ids': ids, 'paths': paths, 'texts': texts}"
   ]
  },
  {
   "cell_type": "code",
   "execution_count": 15,
   "metadata": {},
   "outputs": [
    {
     "name": "stdout",
     "output_type": "stream",
     "text": [
      "----- Precision@5 -----\n",
      "Запрос \"котенок\":  1.00\n",
      "Запрос \"петух курица\":  1.00\n",
      "Запрос \"девушка\":  0.60\n",
      "Запрос \"новый год\":  1.00\n",
      "Запрос \"пасха\":  1.00\n",
      "Запрос \"цветы ромашки\":  1.00\n",
      "Запрос \"иероглифы\":  0.80\n",
      "Запрос \"персонажи мультфильмов\":  0.60\n",
      "Запрос \"космос\":  1.00\n",
      "Запрос \"необычные птицы\":  0.80\n",
      "Запрос \"ученый и наука\":  0.20\n",
      "Запрос \"надписи буквами\":  0.40\n",
      "Запрос \"военная\":  0.60\n",
      "Запрос \"автомобили машины\":  1.00\n",
      "Запрос \"гарри поттер\":  1.00\n",
      "Запрос \"бабочка\":  1.00\n",
      "Запрос \"собака играет\":  0.80\n",
      "Запрос \"знаки зодиака\":  0.80\n",
      "Запрос \"лило и стич\":  1.00\n",
      "Запрос \"самолеты небо\":  1.00\n",
      "Запрос \"детские рисунки\":  0.20\n",
      "Запрос \"любовь\":  0.80\n",
      "Запрос \"динозавр\":  1.00\n",
      "Запрос \"пиво\":  1.00\n",
      "Среднее значение по всем запросам: 0.8166666666666668\n"
     ]
    }
   ],
   "source": [
    "utils.precision_at_k(queries_and_relevants, queries_and_preds)"
   ]
  },
  {
   "cell_type": "code",
   "execution_count": 16,
   "metadata": {},
   "outputs": [
    {
     "name": "stdout",
     "output_type": "stream",
     "text": [
      "----- Recall@5 -----\n",
      "Запрос \"котенок\":  0.31\n",
      "Запрос \"петух курица\":  0.31\n",
      "Запрос \"девушка\":  0.21\n",
      "Запрос \"новый год\":  0.36\n",
      "Запрос \"пасха\":  0.33\n",
      "Запрос \"цветы ромашки\":  0.33\n",
      "Запрос \"иероглифы\":  0.57\n",
      "Запрос \"персонажи мультфильмов\":  0.19\n",
      "Запрос \"космос\":  0.28\n",
      "Запрос \"необычные птицы\":  0.29\n",
      "Запрос \"ученый и наука\":  0.11\n",
      "Запрос \"надписи буквами\":  0.12\n",
      "Запрос \"военная\":  0.20\n",
      "Запрос \"автомобили машины\":  0.45\n",
      "Запрос \"гарри поттер\":  0.83\n",
      "Запрос \"бабочка\":  0.33\n",
      "Запрос \"собака играет\":  0.25\n",
      "Запрос \"знаки зодиака\":  0.25\n",
      "Запрос \"лило и стич\":  0.33\n",
      "Запрос \"самолеты небо\":  0.33\n",
      "Запрос \"детские рисунки\":  0.07\n",
      "Запрос \"любовь\":  0.22\n",
      "Запрос \"динозавр\":  0.42\n",
      "Запрос \"пиво\":  0.45\n",
      "Среднее значение по всем запросам: 0.3154002825877826\n"
     ]
    }
   ],
   "source": [
    "utils.recall_at_k(queries_and_relevants, queries_and_preds)"
   ]
  }
 ],
 "metadata": {
  "kernelspec": {
   "display_name": ".venv",
   "language": "python",
   "name": "python3"
  },
  "language_info": {
   "codemirror_mode": {
    "name": "ipython",
    "version": 3
   },
   "file_extension": ".py",
   "mimetype": "text/x-python",
   "name": "python",
   "nbconvert_exporter": "python",
   "pygments_lexer": "ipython3",
   "version": "3.10.12"
  },
  "orig_nbformat": 4
 },
 "nbformat": 4,
 "nbformat_minor": 2
}
